{
 "cells": [
  {
   "cell_type": "markdown",
   "metadata": {},
   "source": [
    "This notebook can be run on mybinder: [![Binder](https://mybinder.org/badge_logo.svg)](https://mybinder.org/v2/git/https%3A%2F%2Fgricad-gitlab.univ-grenoble-alpes.fr%2Fchatelaf%2Fconference-ia/master?urlpath=lab/tree/notebooks/1c_model_assesment/)"
   ]
  },
  {
   "cell_type": "markdown",
   "metadata": {
    "slideshow": {
     "slide_type": "slide"
    }
   },
   "source": [
    "# Validation\n",
    "In this notebook, we will apply and optimize several algorithms on the *Digits* dataset. This is used to illustrate  cross validation principles"
   ]
  },
  {
   "cell_type": "markdown",
   "metadata": {},
   "source": [
    "### $k$ fold Cross Validation Algorithm\n",
    "\n",
    "`Input`: input variables $X$ (dimension $n \\times p$), responses $y$ (dimension n), number of folds $k$\n",
    "\n",
    "`Divide` randomly the set $\\{1, 2, ..., n\\}$ in $k$ subsets (i.e., folds) of roughly equal sizes (e.g., size equals to the integer part of $n/k$ with a little smaller last part if $n$ is not a multiple of $k$) denoted as $F_1,\\ldots,F_{k}$\n",
    "\n",
    "`for i=1 to k:`\n",
    "  * `Form` the validation set $(X_{val}, y_{val})$ where the indexes of the $X$ and $y$ variables belongs to the $i$th fold $F_i$\n",
    "  * `Form` the training set $(X_{train}, y_{train})$  where the indexes of the $X$ and $y$ variables belongs to all the folds except $F_i$\n",
    "  * `Train` the algorithm/model on the training set $(X_{train}, y_{train})$\n",
    "  * `Apply` the resulting prediction rule on the input  $X_{val}$ of the validation set\n",
    "  * `Compute` the error rate on the validation set based on the predictions and the true responses $y_{val}$\n",
    "\n",
    "`Output`: the average error rate computed over all the $k$ folds"
   ]
  },
  {
   "cell_type": "code",
   "execution_count": 25,
   "metadata": {
    "slideshow": {
     "slide_type": "slide"
    }
   },
   "outputs": [
    {
     "name": "stdout",
     "output_type": "stream",
     "text": [
      "(1797, 64)\n"
     ]
    }
   ],
   "source": [
    "from sklearn.datasets import load_digits, load_iris\n",
    "# Load digits\n",
    "X, y = load_digits(return_X_y=True) # load_iris(return_X_y=True)\n",
    "print(X.shape)"
   ]
  },
  {
   "cell_type": "markdown",
   "metadata": {
    "slideshow": {
     "slide_type": "slide"
    }
   },
   "source": [
    "# Visualization of the digits data set\n",
    "The data set is made available *by NIST to extract normalized bitmaps of handwritten digits from a preprinted form. From a total of 43 people, 30 contributed to the training set and different 13 to the test set. 32x32 bitmaps are divided into nonoverlapping blocks of 4x4 and the number of on pixels are counted in each block. This generates an input matrix of 8x8 where each element is an integer in the range 0..16* (https://archive.ics.uci.edu/ml/datasets/Optical+Recognition+of+Handwritten+Digits)\n",
    "\n",
    "It is possible to visualize the data by reshaping correctly each sample:"
   ]
  },
  {
   "cell_type": "code",
   "execution_count": 62,
   "metadata": {
    "slideshow": {
     "slide_type": "slide"
    }
   },
   "outputs": [
    {
     "data": {
      "image/png": "[encoded data removed]",
      "text/plain": [
       "<Figure size 432x288 with 10 Axes>"
      ]
     },
     "metadata": {
      "needs_background": "light"
     },
     "output_type": "display_data"
    }
   ],
   "source": [
    "%matplotlib inline\n",
    "import matplotlib.pyplot as plt\n",
    "\n",
    "# # Plot the first element\n",
    "# plt.figure(figsize=(10,5) )\n",
    "# plt.subplot(2, 5, 1)\n",
    "# plt.axis('off')\n",
    "# plt.imshow(X[0,:].reshape(8,8), cmap=plt.cm.gray_r, interpolation='nearest')\n",
    "# plt.title(\"Label = {}\".format(y[0]))\n",
    "\n",
    "# Plot the first 10 elements\n",
    "for ith in range(1,11):\n",
    "    plt.subplot(2, 5, ith)\n",
    "    plt.axis('off')\n",
    "    plt.imshow(X[ith,:].reshape(8,8), plt.cm.gray_r, interpolation='nearest')\n",
    "    plt.title(\"Label = {}\".format(y[ith]))\n",
    "plt.show()"
   ]
  },
  {
   "cell_type": "markdown",
   "metadata": {
    "slideshow": {
     "slide_type": "slide"
    }
   },
   "source": [
    "## Classification framework\n",
    "Two steps are required\n",
    "- Model selection, i.e. find the optimal hyperparemeters,\n",
    "- Model assessement, i.e. validate the model on unseen data.\n",
    "\n",
    "As said in introduction, scikit-learn offers convenient and generic functions to achieve these steps.  In this labworks, an example is given for the nearest-neighbors classifier (KNeighborsClassifier) (http://scikit-learn.org/stable/modules/generated/sklearn.svm.SVC.html). But it can be extended for any algorithm in scikit-learn, up to a correct definition of the hyperparameters."
   ]
  },
  {
   "cell_type": "code",
   "execution_count": 63,
   "metadata": {
    "slideshow": {
     "slide_type": "slide"
    }
   },
   "outputs": [],
   "source": [
    "import scipy as sp\n",
    "import numpy as np\n",
    "from sklearn.model_selection import StratifiedKFold, GridSearchCV, train_test_split\n",
    "from sklearn.preprocessing import MinMaxScaler\n",
    "from sklearn.metrics import accuracy_score\n",
    "\n",
    "# Standardize data\n",
    "sc = MinMaxScaler()\n",
    "X = sc.fit_transform(X) # Scale data between 0 and 1\n",
    "\n",
    "# Split the data -> test_size=0.20 means we keep 80% of the data for training and 20% for validation\n",
    "# The stratification ensures that the proportion of each class from the orginal data is preserved in the train and test set\n",
    "X_train, X_test, y_train, y_test = train_test_split(X, y, test_size=0.20, random_state=0, stratify=y)"
   ]
  },
  {
   "cell_type": "markdown",
   "metadata": {
    "slideshow": {
     "slide_type": "slide"
    }
   },
   "source": [
    "With distance based methods (s.t. k-NN or kernel methods), it is a good practice to standardize feature remove dynamics effect. Here we rescaled each feature between 0 and 1."
   ]
  },
  {
   "cell_type": "markdown",
   "metadata": {},
   "source": [
    "We use [cross-validation](http://scikit-learn.org/stable/modules/cross_validation.html) strategy to select the optimal set of hyperparameters."
   ]
  },
  {
   "cell_type": "markdown",
   "metadata": {},
   "source": [
    "We can plot the correct classification rate function of the hyperparameters. It is important to check if our search values are correct."
   ]
  },
  {
   "cell_type": "markdown",
   "metadata": {},
   "source": [
    "## Evaluation of k-NN classifier\n",
    "Again, using scikit-learn generic function, it is possible with few lines of code to run all the experiments."
   ]
  },
  {
   "cell_type": "code",
   "execution_count": 66,
   "metadata": {},
   "outputs": [
    {
     "name": "stdout",
     "output_type": "stream",
     "text": [
      "test_size:0.1 - k:8 - test_accuracy:1.0\n",
      "test_size:0.11 - k:9 - test_accuracy:1.0\n",
      "test_size:0.12 - k:3 - test_accuracy:1.0\n",
      "test_size:0.13 - k:3 - test_accuracy:1.0\n",
      "test_size:0.14 - k:5 - test_accuracy:1.0\n",
      "test_size:0.15 - k:11 - test_accuracy:1.0\n",
      "test_size:0.16 - k:1 - test_accuracy:0.9583333333333334\n",
      "test_size:0.17 - k:9 - test_accuracy:1.0\n",
      "test_size:0.18 - k:9 - test_accuracy:1.0\n",
      "test_size:0.19 - k:5 - test_accuracy:1.0\n",
      "test_size:0.2 - k:11 - test_accuracy:1.0\n",
      "test_size:0.21 - k:11 - test_accuracy:1.0\n",
      "test_size:0.22 - k:11 - test_accuracy:1.0\n",
      "test_size:0.23 - k:5 - test_accuracy:1.0\n",
      "test_size:0.24 - k:4 - test_accuracy:1.0\n",
      "test_size:0.25 - k:11 - test_accuracy:1.0\n",
      "test_size:0.26 - k:3 - test_accuracy:1.0\n",
      "test_size:0.27 - k:8 - test_accuracy:1.0\n",
      "test_size:0.28 - k:2 - test_accuracy:0.9302325581395349\n",
      "test_size:0.29 - k:6 - test_accuracy:1.0\n",
      "test_size:0.3 - k:2 - test_accuracy:0.9333333333333333\n",
      "test_size:0.31 - k:5 - test_accuracy:0.9787234042553191\n",
      "test_size:0.32 - k:4 - test_accuracy:1.0\n",
      "test_size:0.33 - k:1 - test_accuracy:0.98\n",
      "test_size:0.34 - k:3 - test_accuracy:1.0\n",
      "test_size:0.35 - k:3 - test_accuracy:1.0\n",
      "test_size:0.36 - k:3 - test_accuracy:1.0\n",
      "test_size:0.37 - k:3 - test_accuracy:1.0\n",
      "test_size:0.38 - k:1 - test_accuracy:0.9824561403508771\n",
      "test_size:0.39 - k:9 - test_accuracy:0.9830508474576272\n",
      "test_size:0.4 - k:3 - test_accuracy:1.0\n",
      "test_size:0.41 - k:5 - test_accuracy:0.9838709677419355\n",
      "test_size:0.42 - k:5 - test_accuracy:0.9841269841269841\n",
      "test_size:0.43 - k:6 - test_accuracy:0.9846153846153847\n",
      "test_size:0.44 - k:1 - test_accuracy:0.9848484848484849\n",
      "test_size:0.45 - k:12 - test_accuracy:0.9705882352941176\n",
      "test_size:0.46 - k:3 - test_accuracy:1.0\n",
      "test_size:0.47 - k:9 - test_accuracy:0.9859154929577465\n",
      "test_size:0.48 - k:3 - test_accuracy:0.9861111111111112\n",
      "test_size:0.49 - k:9 - test_accuracy:0.9864864864864865\n",
      "test_size:0.5 - k:2 - test_accuracy:0.9333333333333333\n",
      "test_size:0.51 - k:2 - test_accuracy:0.935064935064935\n",
      "test_size:0.52 - k:2 - test_accuracy:0.9358974358974359\n",
      "test_size:0.53 - k:11 - test_accuracy:0.9875\n",
      "test_size:0.54 - k:2 - test_accuracy:0.9135802469135802\n",
      "test_size:0.55 - k:2 - test_accuracy:0.9156626506024096\n",
      "test_size:0.56 - k:2 - test_accuracy:0.9176470588235294\n",
      "test_size:0.57 - k:1 - test_accuracy:0.9186046511627907\n",
      "test_size:0.58 - k:2 - test_accuracy:0.9195402298850575\n",
      "test_size:0.59 - k:2 - test_accuracy:0.9213483146067416\n"
     ]
    }
   ],
   "source": [
    "from sklearn.neighbors import KNeighborsClassifier\n",
    "from sklearn.metrics import accuracy_score\n",
    "\n",
    "# Import Iris data set\n",
    "from sklearn import datasets\n",
    "iris = datasets.load_iris()\n",
    "\n",
    "test_size = 0.09\n",
    "\n",
    "results = dict(test_size=list(), best_estimator=list(), accuracy_score=list())\n",
    "\n",
    "\n",
    "for _ in range(50):\n",
    "    test_size += 0.01\n",
    "    test_size = round(test_size, 2)\n",
    "    results['test_size'].append(test_size)\n",
    "\n",
    "    # Afficher les performances correspondantes\n",
    "    score = 'accuracy' #correct classification rate\n",
    "    param_grid = {'n_neighbors':range(1,15)}\n",
    "\n",
    "    X_train, X_test, y_train, y_test = train_test_split(iris.data, iris.target, test_size=test_size, random_state=0, stratify=iris.target)\n",
    "\n",
    "    clf = GridSearchCV(KNeighborsClassifier(), param_grid=param_grid, cv= 5, scoring=score, n_jobs=-1)\n",
    "    clf.fit(X_train, y_train)\n",
    "\n",
    "    results['best_estimator'].append(clf.best_estimator_.n_neighbors)\n",
    "\n",
    "#     print(\"Results for the cross-validation:\")\n",
    "#     print( clf.best_params_ )\n",
    "#     for mean, std, params in zip(clf.cv_results_['mean_test_score'], # score moyen\n",
    "#     clf.cv_results_['std_test_score'], # écart-type du score\n",
    "#     clf.cv_results_['params'] # valeur de l'hyperparamètre\n",
    "#     ):\n",
    "#         print(\"\\t%s = %0.3f (+/-%0.03f) for %r\" % (score, # critère utilisé\n",
    "#                                                 mean, # score moyen\n",
    "#                                                 std * 2, # barre d'erreur\n",
    "#                                                 params # hyperparamètre\n",
    "#                                                 ) )\n",
    "    y_pred = clf.predict(X_test)\n",
    "    results['accuracy_score'].append(accuracy_score(y_test, y_pred))\n",
    "\n",
    "    print(f'test_size:{results[\"test_size\"][-1]} - k:{results[\"best_estimator\"][-1]} - test_accuracy:{results[\"accuracy_score\"][-1]}')\n"
   ]
  },
  {
   "cell_type": "code",
   "execution_count": 67,
   "metadata": {
    "slideshow": {
     "slide_type": "slide"
    }
   },
   "outputs": [
    {
     "data": {
      "text/plain": [
       "Text(0.5, 0.98, 'Optimal CV K value for Iris dataset sampled across multiple test sizes')"
      ]
     },
     "execution_count": 67,
     "metadata": {},
     "output_type": "execute_result"
    },
    {
     "data": {
      "image/png": "[encoded data removed]",
      "text/plain": [
       "<Figure size 432x288 with 2 Axes>"
      ]
     },
     "metadata": {
      "needs_background": "light"
     },
     "output_type": "display_data"
    },
    {
     "data": {
      "image/png": "[encoded data removed]",
      "text/plain": [
       "<Figure size 1440x720 with 1 Axes>"
      ]
     },
     "metadata": {
      "needs_background": "light"
     },
     "output_type": "display_data"
    }
   ],
   "source": [
    "fig, ax1 = plt.subplots()\n",
    "\n",
    "ax2 = ax1.twinx()\n",
    "\n",
    "plt.figure(figsize=(20,10))\n",
    "plt.subplot(2, 2, 1)\n",
    "ax1.plot(results['test_size'], results['best_estimator'], '-b')\n",
    "ax1.set_xlabel('test size')\n",
    "ax1.set_ylabel('K value for NN algo')\n",
    "\n",
    "ax2.plot(results['test_size'], results['accuracy_score'], '-r')\n",
    "ax2.set_ylabel('test accuracy')\n",
    "\n",
    "fig.legend(['k', 'accuracy'], loc='lower left')\n",
    "fig.suptitle('Optimal CV K value for Iris dataset sampled across multiple test sizes')\n",
    "\n",
    "\n",
    "# # Display some classification errors \n",
    "# t = np.where(y_pred!=y_test)[0]\n",
    "# plt.figure(figsize=(10,5) )\n",
    "# for i, t_ in enumerate(t[:10]):\n",
    "#     plt.subplot(2, 5, i+1)\n",
    "#     plt.axis('off')\n",
    "#     plt.imshow(X_test[t_,:].reshape(8,8), cmap=plt.cm.gray_r)\n",
    "#     plt.title(\"Label = {} Pred = {}\".format(y_test[t_],y_pred[t_]))"
   ]
  },
  {
   "cell_type": "markdown",
   "metadata": {},
   "source": [
    "### Exercice\n",
    "- Recall what are the benefits of cross-validation w.r.t the simple validation approach\n",
    "- Is the CV accuracy estimate consitent with the accuracy estimate obtained on the test set?\n",
    "- Apply the same CV procedure to the iris data set (see  and adapt notebook \n",
    "[`2_knn/N2_iris_knn.ipynb`](https://gricad-gitlab.univ-grenoble-alpes.fr/chatelaf/ml-sicom3a/-/blob/master/notebooks/2_knn/N2_iris_knn.ipynb)). Compare your results with the simple validation approach (fixed training and test set) used in [`2_knn/N2_iris_knn.ipynb`](https://gricad-gitlab.univ-grenoble-alpes.fr/chatelaf/ml-sicom3a/-/blob/master/notebooks/2_knn/N2_iris_knn.ipynb)"
   ]
  }
 ],
 "metadata": {
  "celltoolbar": "Slideshow",
  "kernelspec": {
   "display_name": "Python 3 (ipykernel)",
   "language": "python",
   "name": "python3"
  },
  "language_info": {
   "codemirror_mode": {
    "name": "ipython",
    "version": 3
   },
   "file_extension": ".py",
   "mimetype": "text/x-python",
   "name": "python",
   "nbconvert_exporter": "python",
   "pygments_lexer": "ipython3",
   "version": "3.9.4"
  },
  "widgets": {
   "application/vnd.jupyter.widget-state+json": {
    "state": {},
    "version_major": 2,
    "version_minor": 0
   }
  }
 },
 "nbformat": 4,
 "nbformat_minor": 4
}
